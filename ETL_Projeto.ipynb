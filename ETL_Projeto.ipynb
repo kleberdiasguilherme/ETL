{
  "nbformat": 4,
  "nbformat_minor": 0,
  "metadata": {
    "colab": {
      "provenance": [],
      "authorship_tag": "ABX9TyOgdAOo2lYoKWZ2yFSJUzla",
      "include_colab_link": true
    },
    "kernelspec": {
      "name": "python3",
      "display_name": "Python 3"
    },
    "language_info": {
      "name": "python"
    }
  },
  "cells": [
    {
      "cell_type": "markdown",
      "metadata": {
        "id": "view-in-github",
        "colab_type": "text"
      },
      "source": [
        "<a href=\"https://colab.research.google.com/github/kleberdiasguilherme/ETL/blob/main/ETL_Projeto.ipynb\" target=\"_parent\"><img src=\"https://colab.research.google.com/assets/colab-badge.svg\" alt=\"Open In Colab\"/></a>"
      ]
    },
    {
      "cell_type": "code",
      "source": [
        "import pandas as pd\n",
        "\n",
        "# Extração: Carregar o arquivo CSV em um DataFrame\n",
        "df = pd.read_csv('Anime.csv')\n",
        "\n"
      ],
      "metadata": {
        "id": "A7iGqE3vBS0H"
      },
      "execution_count": 42,
      "outputs": []
    },
    {
      "cell_type": "code",
      "source": [
        "# Transformação: Classificar as linhas com base na coluna 'Rating' e armazenar o resultado\n",
        "df_sorted = df.sort_values(['Rating'], ascending=False).head(100)\n",
        "\n",
        "# Contar o número de animes na coluna 'Type'\n",
        "contagem_por_tipo = df['Type'].value_counts()\n",
        "\n",
        "# Imprimir a contagem separada por tipo\n",
        "print(\"Contagem por tipo de anime:\")\n",
        "print(contagem_por_tipo)"
      ],
      "metadata": {
        "colab": {
          "base_uri": "https://localhost:8080/"
        },
        "id": "kIVN-KGuBS2y",
        "outputId": "0d7c0c7e-9dc7-47a0-85f5-b2a290252e76"
      },
      "execution_count": 43,
      "outputs": [
        {
          "output_type": "stream",
          "name": "stdout",
          "text": [
            "Contagem por tipo de anime:\n",
            "TV       5446\n",
            "Movie    3577\n",
            "Web      2488\n",
            "OVA      2235\n",
            "Music    2165\n",
            "Other     990\n",
            "DVD S     911\n",
            "TV Sp     683\n",
            "Name: Type, dtype: int64\n"
          ]
        }
      ]
    },
    {
      "cell_type": "code",
      "source": [
        "# Exemplo de fase de carga (exportação para um novo arquivo CSV)\n",
        "# Isso exporta as primeiras 100 linhas do DataFrame classificado\n",
        "df_sorted.to_csv('animes_classificados.csv', index=False)\n",
        "\n",
        "# Opcional: Imprimir as primeiras linhas do DataFrame classificado\n",
        "display(\"Primeiras 100 linhas do DataFrame classificado:\")\n",
        "display(df_sorted)"
      ],
      "metadata": {
        "id": "fwGJfNvvKJa9"
      },
      "execution_count": null,
      "outputs": []
    },
    {
      "cell_type": "code",
      "source": [],
      "metadata": {
        "id": "IaVgLyWXNP4q"
      },
      "execution_count": null,
      "outputs": []
    }
  ]
}